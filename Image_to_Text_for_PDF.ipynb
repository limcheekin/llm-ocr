{
  "nbformat": 4,
  "nbformat_minor": 0,
  "metadata": {
    "colab": {
      "provenance": []
    },
    "kernelspec": {
      "name": "python3",
      "display_name": "Python 3"
    },
    "language_info": {
      "name": "python"
    }
  },
  "cells": [
    {
      "cell_type": "markdown",
      "source": [
        "# Image-to-Text for PDF\n",
        "We recommend using T4 runtime to execute the notebook.\n",
        "\n",
        "## Clone the GitHub repo"
      ],
      "metadata": {
        "id": "TuyBx6Md-Mpk"
      }
    },
    {
      "cell_type": "code",
      "execution_count": null,
      "metadata": {
        "id": "nE1DMqMz-I5f"
      },
      "outputs": [],
      "source": [
        "!git clone https://github.com/limcheekin/llm-ocr\n",
        "!cd llm-ocr"
      ]
    },
    {
      "cell_type": "markdown",
      "source": [
        "## Install dependencies"
      ],
      "metadata": {
        "id": "1KOzypto-uub"
      }
    },
    {
      "cell_type": "code",
      "source": [
        "!pip install -r llm-ocr/requirements-gpu.txt"
      ],
      "metadata": {
        "id": "gPvFFqjH-tMI"
      },
      "execution_count": null,
      "outputs": []
    },
    {
      "cell_type": "markdown",
      "source": [
        "## Extract text from the PDF file\n",
        "Change the following items as necessary:\n",
        "1. The file name of the pdf file, default to \"input.pdf\"\n",
        "2. The language for `langs` option, default to Simplified Chinese `ch_sim`. You can change it to any supported languages' code at https://www.jaided.ai/easyocr/"
      ],
      "metadata": {
        "id": "0ReUbLC1_07U"
      }
    },
    {
      "cell_type": "code",
      "source": [
        "!python llm-ocr/main.py --engine easyocr --langs ch_sim --dpi 400 --debug input.pdf output.md"
      ],
      "metadata": {
        "id": "qJAZaddn_riJ"
      },
      "execution_count": null,
      "outputs": []
    },
    {
      "cell_type": "markdown",
      "source": [
        "## Download Output File"
      ],
      "metadata": {
        "id": "HPElqxrDBWgB"
      }
    },
    {
      "cell_type": "code",
      "source": [
        "from google.colab import files\n",
        "\n",
        "files.download(\"output.md\")"
      ],
      "metadata": {
        "id": "GUHjaZleAr3J"
      },
      "execution_count": null,
      "outputs": []
    }
  ]
}